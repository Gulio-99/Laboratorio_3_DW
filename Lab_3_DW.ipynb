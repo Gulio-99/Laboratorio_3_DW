{
  "nbformat": 4,
  "nbformat_minor": 0,
  "metadata": {
    "colab": {
      "name": "Lab_3_DW.ipynb",
      "provenance": [],
      "collapsed_sections": []
    },
    "kernelspec": {
      "name": "python3",
      "display_name": "Python 3"
    },
    "language_info": {
      "name": "python"
    }
  },
  "cells": [
    {
      "cell_type": "markdown",
      "metadata": {
        "id": "oILX6t4g_3Th"
      },
      "source": [
        "#Parte 1\n"
      ]
    },
    {
      "cell_type": "code",
      "metadata": {
        "id": "NZRSuwYK_xuG"
      },
      "source": [
        "import pandas as pd\n",
        "import mysql.connector\n",
        "from mysql.connector import Error\n",
        "\n",
        "def create_connection(host_name, user_name, user_password):\n",
        "    connection = None\n",
        "    try:\n",
        "        connection = mysql.connector.connect(\n",
        "            host=host_name,\n",
        "            user=user_name,\n",
        "            passwd=user_password\n",
        "        )\n",
        "        print(\"Connection to MySQL DB successful\")\n",
        "    except Error as e:\n",
        "        print(f\"The error '{e}' occurred\")\n",
        "\n",
        "    return connection"
      ],
      "execution_count": null,
      "outputs": []
    },
    {
      "cell_type": "code",
      "metadata": {
        "id": "exDREYMx_9OC"
      },
      "source": [
        "host = \"relational.fit.cvut.cz\"\n",
        "user = \"guest\"\n",
        "pwd = \"relational\"\n",
        "connection = create_connection(host_name = host, user_name =user ,user_password = pwd)"
      ],
      "execution_count": null,
      "outputs": []
    },
    {
      "cell_type": "markdown",
      "metadata": {
        "id": "NlEns4Wq_58X"
      },
      "source": [
        "1. Obtener el nombre, apellido, salario, título y vigencia del mismo para el empleado 12557. Su resultado se debe de ver de la siguiente manera:"
      ]
    },
    {
      "cell_type": "code",
      "metadata": {
        "id": "kCmqUWSeAA-A"
      },
      "source": [
        "\n",
        "query = \"\"\"\n",
        "            SELECT\n",
        "                A.emp_no,\n",
        "                A.first_name,\n",
        "                A.last_name,\n",
        "                B.title,\n",
        "                C.from_date,\n",
        "                C.to_date,\n",
        "                C.salary\n",
        "         FROM employee.employees A  \n",
        "         LEFT JOIN employee.titles B on A.emp_no = B.emp_no \n",
        "         LEFT JOIN employee.salaries C on C.emp_no=A.emp_no\n",
        "         WHERE A.emp_no = 12557\n",
        "\"\"\"\n",
        "emp_12557 = pd.read_sql(query,connection)\n",
        "emp_12557"
      ],
      "execution_count": null,
      "outputs": []
    },
    {
      "cell_type": "markdown",
      "metadata": {
        "id": "0ZLHjuCXAIGO"
      },
      "source": [
        "2. Encontrar el último departamento en el que trabajó el empleado con la siguiente información del mismo: nombre, apellido, número de empleado, fecha de nacimiento, código de departamento, nombre del departamento, fecha cuando inició su trabajo en ese departamento y la fecha cuando concluyó su trabajo"
      ]
    },
    {
      "cell_type": "code",
      "metadata": {
        "id": "d3FeOVSmAJJD"
      },
      "source": [
        "\n",
        "query = \"\"\"\n",
        "        SELECT \n",
        "        B.first_name,\n",
        "        B.last_name,\n",
        "        B.birth_date,\n",
        "        C.dept_name,\n",
        "        A.* \n",
        "       FROM (\n",
        "           SELECT\n",
        "            dept_no\n",
        "            ,emp_no\n",
        "            ,MAX(from_date) Last_dept_date\n",
        "            ,to_date\n",
        "            FROM employee.dept_emp\n",
        "            GROUP BY 1,2,4) A\n",
        "       LEFT JOIN employee.employees B on A.emp_no = B.emp_no \n",
        "       LEFT JOIN employee.departments C ON C.dept_no = A.dept_no\n",
        "       LIMIT 100\n",
        "\"\"\"\n",
        "last_dept=pd.read_sql(query,connection)\n",
        "last_dept"
      ],
      "execution_count": null,
      "outputs": []
    },
    {
      "cell_type": "markdown",
      "metadata": {
        "id": "n3UclZNoANIL"
      },
      "source": [
        "3. Encontrar el salario máximo de cada empleado utilizando la función Partition By con toda la información del empleado y de su salario"
      ]
    },
    {
      "cell_type": "code",
      "metadata": {
        "id": "LjBXUe55AM1e"
      },
      "source": [
        "\n",
        "query = \"\"\"\n",
        "    SELECT *\n",
        "    FROM (\n",
        "        SELECT\n",
        "            A.emp_no\n",
        "            ,A.birth_date\n",
        "            ,A.first_name\n",
        "            ,A.last_name\n",
        "            ,A.gender\n",
        "            ,D.dept_name\n",
        "            ,B.salary\n",
        "            ,ROW_NUMBER() OVER (PARTITION BY A.emp_no ORDER BY B.from_date DESC) AS seq\n",
        "        FROM employee.employees A\n",
        "        LEFT JOIN employee.salaries B ON B.emp_no = A.emp_no\n",
        "        LEFT JOIN employee.dept_emp C ON C.emp_no = A.emp_no\n",
        "        LEFT JOIN employee.departments D ON D.dept_no = C.dept_no\n",
        "        GROUP BY 1,2,3,4,5,6,7\n",
        "    ) A\n",
        "    WHERE seq = 1\n",
        "    LIMIT 100\n",
        "\"\"\"\n",
        "pd.read_sql(query,connection)"
      ],
      "execution_count": null,
      "outputs": []
    },
    {
      "cell_type": "markdown",
      "metadata": {
        "id": "N19rzIPDATLm"
      },
      "source": [
        "# Parte 2"
      ]
    },
    {
      "cell_type": "markdown",
      "metadata": {
        "id": "vDZ9od2WAXGa"
      },
      "source": [
        "Para ver los campos completos utilice la siguiente pagina: https://sqliteonline.com/\n",
        "\n",
        "\n"
      ]
    },
    {
      "cell_type": "code",
      "metadata": {
        "id": "xdmPU8VgAZTm"
      },
      "source": [
        "import pandas as pd\n",
        "import sqlite3\n",
        "con = sqlite3.connect('sql-murder-mystery.db')\n",
        "con"
      ],
      "execution_count": null,
      "outputs": []
    },
    {
      "cell_type": "code",
      "metadata": {
        "id": "hW6edn-KAbvQ"
      },
      "source": [
        "query = \"\"\"\n",
        "SELECT name \n",
        "  FROM sqlite_master\n",
        " where type = 'table'\n",
        " \n",
        " \"\"\"\n",
        "pd.read_sql(query, con)"
      ],
      "execution_count": null,
      "outputs": []
    },
    {
      "cell_type": "code",
      "metadata": {
        "id": "UVwzLPl0Agup"
      },
      "source": [
        "query='''SELECT *\n",
        "     FROM crime_scene_report\n",
        "     WHERE date=20180115 AND city=\"SQL City\"\n",
        "     '''\n",
        "pd.read_sql(query,con)"
      ],
      "execution_count": null,
      "outputs": []
    },
    {
      "cell_type": "code",
      "metadata": {
        "id": "stb7JtrWAhvg"
      },
      "source": [
        "query='''SELECT *,\n",
        "MAX(address_number) Last_house\n",
        "FROM person\n",
        "WHERE address_street_name=\"Northwestern Dr\"     \n",
        "'''\n",
        "pd.read_sql(query,con)"
      ],
      "execution_count": null,
      "outputs": []
    },
    {
      "cell_type": "code",
      "metadata": {
        "id": "bphvwIXHAkFs"
      },
      "source": [
        "query=''' SELECT * FROM person \n",
        "WHERE address_street_name=\"Franklin Ave\" AND name=\"Annabel Miller\"\n",
        "'''\n",
        "pd.read_sql(query,con)"
      ],
      "execution_count": null,
      "outputs": []
    },
    {
      "cell_type": "code",
      "metadata": {
        "id": "IXS_FMO7AmHL"
      },
      "source": [
        "query=''' SELECT *\n",
        "FROM interview\n",
        "WHERE person_id = 14887 OR person_id = 16371\n",
        "'''\n",
        "pd.read_sql(query,con)"
      ],
      "execution_count": null,
      "outputs": []
    },
    {
      "cell_type": "code",
      "metadata": {
        "id": "4h8P0vLJAof_"
      },
      "source": [
        "query=''' SELECT *\n",
        "FROM get_fit_now_check_in\n",
        "WHERE check_in_date = 20180109\n",
        "'''\n",
        "pd.read_sql(query,con)"
      ],
      "execution_count": null,
      "outputs": []
    },
    {
      "cell_type": "code",
      "metadata": {
        "id": "N-XLW36XAqta"
      },
      "source": [
        "query=''' SELECT *\n",
        "FROM get_fit_now_member\n",
        "WHERE id=\"48Z55\" OR id=\"48Z7A\"\n",
        "'''\n",
        "pd.read_sql(query,con)"
      ],
      "execution_count": null,
      "outputs": []
    },
    {
      "cell_type": "code",
      "metadata": {
        "id": "doQJo_DPAvA2"
      },
      "source": [
        "query='''SELECT * \n",
        "FROM person\n",
        "WHERE id=\"67318\"  OR id=\"28819\""
      ],
      "execution_count": null,
      "outputs": []
    },
    {
      "cell_type": "code",
      "metadata": {
        "id": "c7hUAW8iAxkG"
      },
      "source": [
        "query=''' SELECT * \n",
        "FROM drivers_license\n",
        "WHERE id=\"173286\"  OR id=\"423327\"\n",
        "'''\n",
        "pd.read_sql(query,con)"
      ],
      "execution_count": null,
      "outputs": []
    },
    {
      "cell_type": "code",
      "metadata": {
        "id": "0ybaxlpDA0rI"
      },
      "source": [
        "cursor = con.cursor()\n",
        "sql = \"INSERT INTO solution VALUES (1, 'Jeremy Bowers')\"\n",
        "cursor.execute(sql)\n",
        "con.commit()\n",
        "var = pd.read_sql(\"SELECT value FROM solution\", con)\n",
        "var.iloc[0,0]"
      ],
      "execution_count": null,
      "outputs": []
    },
    {
      "cell_type": "code",
      "metadata": {
        "id": "HGVKyyiJA2ns"
      },
      "source": [
        "query='''SELECT * \n",
        "FROM interview\n",
        "WHERE person_id = \"67318\"\n",
        "'''\n",
        "pd.read_sql(query,con)"
      ],
      "execution_count": null,
      "outputs": []
    },
    {
      "cell_type": "code",
      "metadata": {
        "id": "8hKYLQz3A44l"
      },
      "source": [
        "query='''\n",
        "    SELECT *\n",
        "    FROM (\n",
        "        SELECT\n",
        "            A.height,\n",
        "            A.hair_color,\n",
        "            A.gender,\n",
        "            A.car_model,\n",
        "            B.id,\n",
        "            B.name,\n",
        "            C.event_name\n",
        "        FROM drivers_license A\n",
        "        LEFT JOIN person B on A.id = B.license_id\n",
        "        LEFT JOIN facebook_event_checkin C on B.id = C.person_id\n",
        "        GROUP BY 1,2,3,4,5,6,7\n",
        "    ) A\n",
        "    WHERE (A.hair_color=\"red\" AND A.gender=\"female\" AND A.car_model=\"Model S\") AND A.height BETWEEN 65 AND 67\n",
        "     '''\n",
        "pd.read_sql(query,con)"
      ],
      "execution_count": null,
      "outputs": []
    },
    {
      "cell_type": "code",
      "metadata": {
        "id": "uC1uYz0_A7SA"
      },
      "source": [
        "cursor = con.cursor()\n",
        "sql = \"INSERT INTO solution VALUES (1, 'Miranda Priestly')\"\n",
        "cursor.execute(sql)\n",
        "con.commit()\n",
        "var = pd.read_sql(\"SELECT value FROM solution\", con)\n",
        "var.iloc[0,0]"
      ],
      "execution_count": null,
      "outputs": []
    }
  ]
}